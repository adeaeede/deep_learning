{
 "cells": [
  {
   "cell_type": "code",
   "execution_count": 2,
   "metadata": {},
   "outputs": [],
   "source": [
    "import tensorflow as tf\n",
    "import numpy as np\n",
    "import matplotlib.pyplot as plt"
   ]
  },
  {
   "cell_type": "markdown",
   "metadata": {},
   "source": [
    "### Build the model"
   ]
  },
  {
   "cell_type": "markdown",
   "metadata": {},
   "source": [
    "For the given dataset we have found out, that a one hidden layer dense network consisting of 397 relu activation units gets best results."
   ]
  },
  {
   "cell_type": "code",
   "execution_count": 3,
   "metadata": {},
   "outputs": [],
   "source": [
    "class MNIST:\n",
    "    def __init__(self):\n",
    "        self.session = tf.Session()\n",
    "\n",
    "    def data(self, images, labels, batch_size=64, prefetch_buffer=128):\n",
    "        with tf.variable_scope(\"data\"):\n",
    "            dataset = tf.data.Dataset.from_tensor_slices((images, labels))\n",
    "            dataset = dataset.shuffle(buffer_size=20000, seed=12345).repeat()\n",
    "            dataset = dataset.batch(batch_size)\n",
    "            dataset = dataset.prefetch(prefetch_buffer)\n",
    "            iterator = dataset.make_one_shot_iterator()\n",
    "        return iterator\n",
    "\n",
    "    def model(self, images, hidden1_units=397):\n",
    "        with tf.variable_scope('hidden1', reuse=tf.AUTO_REUSE):\n",
    "            weights = tf.get_variable(name='weights', shape=(28 * 28, hidden1_units), dtype=tf.float32,\n",
    "                                      initializer=tf.contrib.layers.xavier_initializer())\n",
    "            biases = tf.get_variable(name='biases', shape=hidden1_units, dtype=tf.float32,\n",
    "                                     initializer=tf.initializers.zeros())\n",
    "        hidden1 = tf.nn.relu(tf.add(tf.matmul(images, weights), biases))\n",
    "        with tf.variable_scope('softmax', reuse=tf.AUTO_REUSE):\n",
    "            weights = tf.get_variable(name='weights', shape=(hidden1_units, 10), dtype=tf.float32,\n",
    "                                      initializer=tf.contrib.layers.xavier_initializer())\n",
    "            biases = tf.get_variable(name='biases', shape=10, initializer=tf.initializers.zeros())\n",
    "        return tf.add(tf.matmul(hidden1, weights), biases)\n",
    "\n",
    "    def loss(self, logits, labels):\n",
    "        with tf.variable_scope(\"loss\"):\n",
    "            return tf.losses.sparse_softmax_cross_entropy(labels, logits)\n",
    "\n",
    "    def optimizer(self, loss):\n",
    "        with tf.variable_scope(\"optimizer\"):\n",
    "            optimizer = tf.train.AdamOptimizer()\n",
    "            optimizer = optimizer.minimize(loss)\n",
    "        return optimizer\n",
    "\n",
    "    def performance_metric(self, logits, labels):\n",
    "        with tf.variable_scope(\"performance_metric\"):\n",
    "            preds = tf.argmax(logits, axis=1)\n",
    "            labels = tf.cast(labels, tf.int64)\n",
    "            corrects = tf.equal(preds, labels)\n",
    "            accuracy = tf.reduce_mean(tf.cast(corrects, tf.float32))\n",
    "        return accuracy\n",
    "\n",
    "    def fit(self, _images, _labels, n_epochs=20, batch_size=64):\n",
    "        images, labels = self.data(_images, _labels, batch_size).get_next()\n",
    "        logits = self.model(images)\n",
    "        loss = self.loss(logits, labels)\n",
    "        optimizer = self.optimizer(loss)\n",
    "        accuracy = self.performance_metric(logits, labels)\n",
    "        self.session.run(tf.global_variables_initializer())\n",
    "        _loss, _acc = 0, 0\n",
    "        epoch = _images.shape[0] / batch_size\n",
    "        n_iters = int((_images.shape[0] / batch_size) * n_epochs)\n",
    "        history = dict(loss=[], accuracy=[], n_epochs=n_epochs)\n",
    "\n",
    "        for i in range(1, n_iters + 1):\n",
    "            _, loss_batch, acc_batch = self.session.run([optimizer, loss, accuracy])\n",
    "            _loss += loss_batch\n",
    "            _acc += acc_batch\n",
    "            if i % epoch == 0:\n",
    "                _loss /= epoch\n",
    "                _acc /= epoch\n",
    "                print('Epoch %2d, loss %.4f, accuracy %.2f%%' % (i / epoch, _loss, _acc * 100))\n",
    "                history['loss'].append(_loss)\n",
    "                history['accuracy'].append(_acc)\n",
    "                _acc, _loss = 0, 0\n",
    "\n",
    "        return history\n",
    "\n",
    "    def eval(self, images, labels):\n",
    "        logits = self.model(images)\n",
    "        loss = self.loss(logits, labels)\n",
    "        accuracy = self.performance_metric(logits, labels)\n",
    "\n",
    "        val_loss, val_acc = self.session.run([loss, accuracy])\n",
    "        print('Validation loss %.4f, accuracy %.2f%%' % (val_loss, val_acc * 100))\n",
    "        \n",
    "    def predict(self, images):\n",
    "        pred = tf.argmax(tf.nn.softmax(self.model(images)), axis=1)\n",
    "        return pred.eval(session=self.session)"
   ]
  },
  {
   "cell_type": "markdown",
   "metadata": {},
   "source": [
    "### Prepare the data"
   ]
  },
  {
   "cell_type": "code",
   "execution_count": 4,
   "metadata": {},
   "outputs": [],
   "source": [
    "with np.load('prediction-challenge-01-data.npz') as fh:\n",
    "    data_x = fh['data_x']\n",
    "    data_y = fh['data_y']\n",
    "    test_x = fh['test_x']"
   ]
  },
  {
   "cell_type": "code",
   "execution_count": 5,
   "metadata": {},
   "outputs": [],
   "source": [
    "# Rescale the data to range (0,1) for numerical stability\n",
    "data_x /= 255.0\n",
    "test_x /= 255.0\n",
    "data_x = data_x.reshape(data_x.shape[0], 28 * 28)\n",
    "test_x = test_x.reshape(test_x.shape[0], 28 * 28)"
   ]
  },
  {
   "cell_type": "code",
   "execution_count": 6,
   "metadata": {},
   "outputs": [],
   "source": [
    "# Use 80/20 ratio for train and validation\n",
    "train_X, train_y = data_x[:16000], data_y[:16000]\n",
    "val_X, val_y = data_x[16000:], data_y[16000:]"
   ]
  },
  {
   "cell_type": "markdown",
   "metadata": {},
   "source": [
    "### Train the model"
   ]
  },
  {
   "cell_type": "code",
   "execution_count": 7,
   "metadata": {},
   "outputs": [
    {
     "name": "stdout",
     "output_type": "stream",
     "text": [
      "\n",
      "WARNING: The TensorFlow contrib module will not be included in TensorFlow 2.0.\n",
      "For more information, please see:\n",
      "  * https://github.com/tensorflow/community/blob/master/rfcs/20180907-contrib-sunset.md\n",
      "  * https://github.com/tensorflow/addons\n",
      "If you depend on functionality not listed there, please file an issue.\n",
      "\n",
      "WARNING:tensorflow:From /usr/local/lib/python3.7/site-packages/tensorflow/python/framework/op_def_library.py:263: colocate_with (from tensorflow.python.framework.ops) is deprecated and will be removed in a future version.\n",
      "Instructions for updating:\n",
      "Colocations handled automatically by placer.\n",
      "WARNING:tensorflow:From /usr/local/lib/python3.7/site-packages/tensorflow/python/ops/losses/losses_impl.py:209: to_float (from tensorflow.python.ops.math_ops) is deprecated and will be removed in a future version.\n",
      "Instructions for updating:\n",
      "Use tf.cast instead.\n",
      "Epoch  1, loss 0.4195, accuracy 88.09%\n",
      "Epoch  2, loss 0.1894, accuracy 94.58%\n",
      "Epoch  3, loss 0.1288, accuracy 96.26%\n",
      "Epoch  4, loss 0.0925, accuracy 97.34%\n",
      "Epoch  5, loss 0.0615, accuracy 98.35%\n",
      "Epoch  6, loss 0.0473, accuracy 98.82%\n",
      "Epoch  7, loss 0.0344, accuracy 99.15%\n",
      "Epoch  8, loss 0.0242, accuracy 99.50%\n",
      "Epoch  9, loss 0.0186, accuracy 99.66%\n",
      "Epoch 10, loss 0.0128, accuracy 99.83%\n",
      "Epoch 11, loss 0.0090, accuracy 99.89%\n",
      "Epoch 12, loss 0.0058, accuracy 99.98%\n",
      "Epoch 13, loss 0.0046, accuracy 99.98%\n",
      "Epoch 14, loss 0.0040, accuracy 99.98%\n",
      "Epoch 15, loss 0.0029, accuracy 99.99%\n",
      "Epoch 16, loss 0.0021, accuracy 100.00%\n",
      "Epoch 17, loss 0.0018, accuracy 100.00%\n",
      "Epoch 18, loss 0.0015, accuracy 100.00%\n",
      "Epoch 19, loss 0.0013, accuracy 100.00%\n",
      "Epoch 20, loss 0.0012, accuracy 100.00%\n"
     ]
    }
   ],
   "source": [
    "model = MNIST()\n",
    "history = model.fit(train_X, train_y)"
   ]
  },
  {
   "cell_type": "code",
   "execution_count": 8,
   "metadata": {
    "scrolled": true
   },
   "outputs": [
    {
     "data": {
      "image/png": "[encoded data removed]",
      "text/plain": [
       "<Figure size 432x288 with 1 Axes>"
      ]
     },
     "metadata": {
      "needs_background": "light"
     },
     "output_type": "display_data"
    }
   ],
   "source": [
    "plt.plot(np.arange(0, history['n_epochs']), history['loss'], 'r')\n",
    "plt.xlabel('# of epochs')\n",
    "plt.ylabel('Training loss')\n",
    "plt.show()"
   ]
  },
  {
   "cell_type": "markdown",
   "metadata": {},
   "source": [
    "### Evaluate the performance on the validation data"
   ]
  },
  {
   "cell_type": "code",
   "execution_count": 9,
   "metadata": {},
   "outputs": [
    {
     "name": "stdout",
     "output_type": "stream",
     "text": [
      "Validation loss 0.1050, accuracy 97.32%\n"
     ]
    }
   ],
   "source": [
    "model.eval(val_X, val_y)"
   ]
  },
  {
   "cell_type": "markdown",
   "metadata": {},
   "source": [
    "### Predict"
   ]
  },
  {
   "cell_type": "code",
   "execution_count": 10,
   "metadata": {},
   "outputs": [],
   "source": [
    "prediction = model.predict(test_x)\n",
    "\n",
    "assert prediction.ndim == 1\n",
    "assert prediction.shape[0] == 2000\n",
    "np.save('prediction.npy', prediction)"
   ]
  },
  {
   "cell_type": "markdown",
   "metadata": {},
   "source": [
    "### Compare some predicted numbers with test data"
   ]
  },
  {
   "cell_type": "code",
   "execution_count": 16,
   "metadata": {},
   "outputs": [
    {
     "data": {
      "image/png": "[encoded data removed]",
      "text/plain": [
       "<Figure size 432x288 with 25 Axes>"
      ]
     },
     "metadata": {
      "needs_background": "light"
     },
     "output_type": "display_data"
    },
    {
     "name": "stdout",
     "output_type": "stream",
     "text": [
      "Predicion: \n",
      " [[9 7 3 7 9]\n",
      " [5 2 9 2 6]\n",
      " [5 5 1 4 4]\n",
      " [2 5 2 0 3]\n",
      " [4 9 2 4 7]]\n"
     ]
    }
   ],
   "source": [
    "for i in range(25):\n",
    "    plt.subplot(5, 5, i + 1)\n",
    "    plt.imshow(test_x[i].reshape(28, 28), cmap=plt.cm.binary)\n",
    "plt.title(\"Test data\")\n",
    "plt.show()\n",
    "\n",
    "print(\"Predicion: \\n\", prediction[:25].reshape(5, 5))"
   ]
  }
 ],
 "metadata": {
  "kernelspec": {
   "display_name": "Python 3",
   "language": "python",
   "name": "python3"
  },
  "language_info": {
   "codemirror_mode": {
    "name": "ipython",
    "version": 3
   },
   "file_extension": ".py",
   "mimetype": "text/x-python",
   "name": "python",
   "nbconvert_exporter": "python",
   "pygments_lexer": "ipython3",
   "version": "3.7.2"
  }
 },
 "nbformat": 4,
 "nbformat_minor": 2
}
