{
 "cells": [
  {
   "cell_type": "code",
   "execution_count": 1,
   "metadata": {},
   "outputs": [
    {
     "name": "stderr",
     "output_type": "stream",
     "text": [
      "Using TensorFlow backend.\n"
     ]
    }
   ],
   "source": [
    "import numpy as np\n",
    "from keras import Sequential\n",
    "from keras.layers import GRU, Bidirectional, Embedding, Dense, Dropout, LSTM\n",
    "from keras.utils import to_categorical\n",
    "from keras.callbacks import EarlyStopping\n",
    "from sklearn.utils import class_weight"
   ]
  },
  {
   "cell_type": "code",
   "execution_count": 2,
   "metadata": {},
   "outputs": [],
   "source": [
    "data = np.load('rnn-challenge-data.npz')\n",
    "data_x = data['data_x']\n",
    "data_y = data['data_y']\n",
    "\n",
    "val_x = data['val_x']\n",
    "val_x = val_x\n",
    "val_y = data['val_y']\n",
    "\n",
    "test_x = data['test_x']"
   ]
  },
  {
   "cell_type": "code",
   "execution_count": 3,
   "metadata": {},
   "outputs": [],
   "source": [
    "def vectorise_sequence(sequence):\n",
    "    alphabet = {'A': 0, 'C': 1, 'G': 2, 'T': 3}\n",
    "    encoded = []\n",
    "    for i, row in enumerate(sequence):\n",
    "        seq_encoding = np.array([alphabet[ch] for ch in row])\n",
    "        encoded.append(seq_encoding)\n",
    "    return np.array(encoded)"
   ]
  },
  {
   "cell_type": "code",
   "execution_count": 4,
   "metadata": {},
   "outputs": [],
   "source": [
    "from keras.callbacks import Callback\n",
    "\n",
    "class TerminateOnBaseline(Callback):\n",
    "    \"\"\"Callback that terminates training when either acc or val_acc reaches a specified baseline\n",
    "    \"\"\"\n",
    "    def __init__(self, monitor='acc', baseline=0.9):\n",
    "        super(TerminateOnBaseline, self).__init__()\n",
    "        self.monitor = monitor\n",
    "        self.baseline = baseline\n",
    "\n",
    "    def on_epoch_end(self, epoch, logs=None):\n",
    "        logs = logs or {}\n",
    "        acc = logs.get(self.monitor)\n",
    "        if acc is not None:\n",
    "            if acc >= self.baseline:\n",
    "                print('Epoch %d: Reached baseline, terminating training' % (epoch))\n",
    "                self.model.stop_training = True"
   ]
  },
  {
   "cell_type": "code",
   "execution_count": 5,
   "metadata": {},
   "outputs": [
    {
     "name": "stderr",
     "output_type": "stream",
     "text": [
      "WARNING: Logging before flag parsing goes to stderr.\n",
      "W0623 11:24:07.952186 140062235854656 deprecation_wrapper.py:119] From /usr/local/lib/python3.6/dist-packages/keras/backend/tensorflow_backend.py:74: The name tf.get_default_graph is deprecated. Please use tf.compat.v1.get_default_graph instead.\n",
      "\n",
      "W0623 11:24:07.968384 140062235854656 deprecation_wrapper.py:119] From /usr/local/lib/python3.6/dist-packages/keras/backend/tensorflow_backend.py:517: The name tf.placeholder is deprecated. Please use tf.compat.v1.placeholder instead.\n",
      "\n",
      "W0623 11:24:07.971403 140062235854656 deprecation_wrapper.py:119] From /usr/local/lib/python3.6/dist-packages/keras/backend/tensorflow_backend.py:4138: The name tf.random_uniform is deprecated. Please use tf.random.uniform instead.\n",
      "\n",
      "W0623 11:24:08.316542 140062235854656 deprecation_wrapper.py:119] From /usr/local/lib/python3.6/dist-packages/keras/backend/tensorflow_backend.py:133: The name tf.placeholder_with_default is deprecated. Please use tf.compat.v1.placeholder_with_default instead.\n",
      "\n",
      "W0623 11:24:08.322863 140062235854656 deprecation.py:506] From /usr/local/lib/python3.6/dist-packages/keras/backend/tensorflow_backend.py:3445: calling dropout (from tensorflow.python.ops.nn_ops) with keep_prob is deprecated and will be removed in a future version.\n",
      "Instructions for updating:\n",
      "Please use `rate` instead of `keep_prob`. Rate should be set to `rate = 1 - keep_prob`.\n",
      "W0623 11:24:08.632126 140062235854656 deprecation_wrapper.py:119] From /usr/local/lib/python3.6/dist-packages/keras/optimizers.py:790: The name tf.train.Optimizer is deprecated. Please use tf.compat.v1.train.Optimizer instead.\n",
      "\n",
      "W0623 11:24:08.651758 140062235854656 deprecation_wrapper.py:119] From /usr/local/lib/python3.6/dist-packages/keras/backend/tensorflow_backend.py:3295: The name tf.log is deprecated. Please use tf.math.log instead.\n",
      "\n"
     ]
    }
   ],
   "source": [
    "dropout = 0.5\n",
    "callback = EarlyStopping(monitor='val_categorical_accuracy', patience=0, baseline=1.0)\n",
    "\n",
    "\n",
    "model = Sequential()\n",
    "model.add(Embedding(input_dim=4, output_dim=64, name='embedding_layer'))\n",
    "model.add(Bidirectional(GRU(128, return_sequences=True)))\n",
    "model.add(Dropout(dropout))\n",
    "model.add(Bidirectional(GRU(128)))\n",
    "model.add(Dropout(dropout))\n",
    "model.add(Dense(5, activation='softmax'))\n",
    "model.compile('adam', 'categorical_crossentropy', metrics=['categorical_accuracy'])\n",
    "\n",
    "class_weight = class_weight.compute_class_weight('balanced', np.unique(data_y), data_y)\n",
    "data_x_encoded = vectorise_sequence(data_x)\n",
    "val_x_encoded = vectorise_sequence(val_x)"
   ]
  },
  {
   "cell_type": "code",
   "execution_count": 6,
   "metadata": {
    "scrolled": true
   },
   "outputs": [
    {
     "name": "stderr",
     "output_type": "stream",
     "text": [
      "W0623 11:24:20.558073 140062235854656 deprecation.py:323] From /usr/local/lib/python3.6/dist-packages/tensorflow/python/ops/math_grad.py:1250: add_dispatch_support.<locals>.wrapper (from tensorflow.python.ops.array_ops) is deprecated and will be removed in a future version.\n",
      "Instructions for updating:\n",
      "Use tf.where in 2.0, which has the same broadcast rule as np.where\n"
     ]
    },
    {
     "name": "stdout",
     "output_type": "stream",
     "text": [
      "Train on 400 samples, validate on 100 samples\n",
      "Epoch 1/100\n",
      "400/400 [==============================] - 20s 50ms/step - loss: 1.6085 - categorical_accuracy: 0.2125 - val_loss: 1.6026 - val_categorical_accuracy: 0.3100\n",
      "Epoch 2/100\n",
      "400/400 [==============================] - 16s 41ms/step - loss: 1.5988 - categorical_accuracy: 0.2775 - val_loss: 1.5929 - val_categorical_accuracy: 0.3300\n",
      "Epoch 3/100\n",
      "400/400 [==============================] - 16s 41ms/step - loss: 1.5806 - categorical_accuracy: 0.3250 - val_loss: 1.5731 - val_categorical_accuracy: 0.3200\n",
      "Epoch 4/100\n",
      "400/400 [==============================] - 16s 41ms/step - loss: 1.5488 - categorical_accuracy: 0.3225 - val_loss: 1.5335 - val_categorical_accuracy: 0.4200\n",
      "Epoch 5/100\n",
      "400/400 [==============================] - 16s 41ms/step - loss: 1.4873 - categorical_accuracy: 0.3625 - val_loss: 1.4621 - val_categorical_accuracy: 0.3200\n",
      "Epoch 6/100\n",
      "400/400 [==============================] - 16s 41ms/step - loss: 1.3836 - categorical_accuracy: 0.4275 - val_loss: 1.3471 - val_categorical_accuracy: 0.3400\n",
      "Epoch 7/100\n",
      "400/400 [==============================] - 16s 41ms/step - loss: 1.2592 - categorical_accuracy: 0.4350 - val_loss: 1.1680 - val_categorical_accuracy: 0.4600\n",
      "Epoch 8/100\n",
      "400/400 [==============================] - 16s 41ms/step - loss: 1.1403 - categorical_accuracy: 0.4650 - val_loss: 1.1619 - val_categorical_accuracy: 0.4200\n",
      "Epoch 9/100\n",
      "400/400 [==============================] - 16s 41ms/step - loss: 1.1269 - categorical_accuracy: 0.4600 - val_loss: 1.1971 - val_categorical_accuracy: 0.4100\n",
      "Epoch 10/100\n",
      "400/400 [==============================] - 16s 41ms/step - loss: 1.2455 - categorical_accuracy: 0.4250 - val_loss: 1.2664 - val_categorical_accuracy: 0.4000\n",
      "Epoch 11/100\n",
      "400/400 [==============================] - 16s 41ms/step - loss: 1.2661 - categorical_accuracy: 0.4000 - val_loss: 1.2170 - val_categorical_accuracy: 0.4100\n",
      "Epoch 12/100\n",
      "400/400 [==============================] - 16s 41ms/step - loss: 1.1918 - categorical_accuracy: 0.4375 - val_loss: 1.2126 - val_categorical_accuracy: 0.4300\n",
      "Epoch 13/100\n",
      "400/400 [==============================] - 16s 41ms/step - loss: 1.1866 - categorical_accuracy: 0.4700 - val_loss: 1.1574 - val_categorical_accuracy: 0.4600\n",
      "Epoch 14/100\n",
      "400/400 [==============================] - 16s 41ms/step - loss: 1.1135 - categorical_accuracy: 0.5125 - val_loss: 1.0605 - val_categorical_accuracy: 0.4800\n",
      "Epoch 15/100\n",
      "400/400 [==============================] - 16s 41ms/step - loss: 1.0141 - categorical_accuracy: 0.5450 - val_loss: 0.9071 - val_categorical_accuracy: 0.5700\n",
      "Epoch 16/100\n",
      "400/400 [==============================] - 16s 41ms/step - loss: 0.8501 - categorical_accuracy: 0.6275 - val_loss: 0.7324 - val_categorical_accuracy: 0.6700\n",
      "Epoch 17/100\n",
      "400/400 [==============================] - 16s 41ms/step - loss: 0.9853 - categorical_accuracy: 0.5825 - val_loss: 1.0145 - val_categorical_accuracy: 0.4800\n",
      "Epoch 18/100\n",
      "400/400 [==============================] - 16s 41ms/step - loss: 1.0679 - categorical_accuracy: 0.4700 - val_loss: 1.0451 - val_categorical_accuracy: 0.4900\n",
      "Epoch 19/100\n",
      "400/400 [==============================] - 16s 41ms/step - loss: 1.0029 - categorical_accuracy: 0.5575 - val_loss: 0.9587 - val_categorical_accuracy: 0.5700\n",
      "Epoch 20/100\n",
      "400/400 [==============================] - 16s 41ms/step - loss: 0.8963 - categorical_accuracy: 0.5975 - val_loss: 0.8190 - val_categorical_accuracy: 0.6300\n",
      "Epoch 21/100\n",
      "400/400 [==============================] - 16s 41ms/step - loss: 0.7512 - categorical_accuracy: 0.6675 - val_loss: 0.6603 - val_categorical_accuracy: 0.6800\n",
      "Epoch 22/100\n",
      "400/400 [==============================] - 16s 41ms/step - loss: 1.0053 - categorical_accuracy: 0.6225 - val_loss: 2.6737 - val_categorical_accuracy: 0.2900\n",
      "Epoch 23/100\n",
      "400/400 [==============================] - 16s 41ms/step - loss: 1.7984 - categorical_accuracy: 0.3300 - val_loss: 1.1904 - val_categorical_accuracy: 0.3900\n",
      "Epoch 24/100\n",
      "400/400 [==============================] - 16s 41ms/step - loss: 1.1758 - categorical_accuracy: 0.4800 - val_loss: 1.1451 - val_categorical_accuracy: 0.4500\n",
      "Epoch 25/100\n",
      "400/400 [==============================] - 16s 41ms/step - loss: 1.1549 - categorical_accuracy: 0.5025 - val_loss: 1.0672 - val_categorical_accuracy: 0.4900\n",
      "Epoch 26/100\n",
      "400/400 [==============================] - 16s 41ms/step - loss: 0.9805 - categorical_accuracy: 0.5250 - val_loss: 1.0527 - val_categorical_accuracy: 0.4800\n",
      "Epoch 27/100\n",
      "400/400 [==============================] - 16s 41ms/step - loss: 0.8737 - categorical_accuracy: 0.5825 - val_loss: 0.9055 - val_categorical_accuracy: 0.6000\n",
      "Epoch 28/100\n",
      "400/400 [==============================] - 16s 41ms/step - loss: 0.8107 - categorical_accuracy: 0.6475 - val_loss: 0.7977 - val_categorical_accuracy: 0.5700\n",
      "Epoch 29/100\n",
      "400/400 [==============================] - 16s 41ms/step - loss: 0.6788 - categorical_accuracy: 0.6875 - val_loss: 0.6057 - val_categorical_accuracy: 0.6900\n",
      "Epoch 30/100\n",
      "400/400 [==============================] - 16s 41ms/step - loss: 0.8226 - categorical_accuracy: 0.6225 - val_loss: 0.6681 - val_categorical_accuracy: 0.6400\n",
      "Epoch 31/100\n",
      "400/400 [==============================] - 16s 41ms/step - loss: 0.6824 - categorical_accuracy: 0.6750 - val_loss: 0.7195 - val_categorical_accuracy: 0.6800\n",
      "Epoch 32/100\n",
      "400/400 [==============================] - 16s 41ms/step - loss: 0.6455 - categorical_accuracy: 0.6900 - val_loss: 0.5600 - val_categorical_accuracy: 0.7400\n",
      "Epoch 33/100\n",
      "400/400 [==============================] - 16s 41ms/step - loss: 0.5963 - categorical_accuracy: 0.7025 - val_loss: 0.5491 - val_categorical_accuracy: 0.6800\n",
      "Epoch 34/100\n",
      "400/400 [==============================] - 16s 41ms/step - loss: 0.5578 - categorical_accuracy: 0.7150 - val_loss: 0.5552 - val_categorical_accuracy: 0.6800\n",
      "Epoch 35/100\n",
      "400/400 [==============================] - 16s 41ms/step - loss: 0.5137 - categorical_accuracy: 0.7475 - val_loss: 0.5053 - val_categorical_accuracy: 0.7200\n",
      "Epoch 36/100\n",
      "400/400 [==============================] - 16s 41ms/step - loss: 0.5118 - categorical_accuracy: 0.7650 - val_loss: 0.4782 - val_categorical_accuracy: 0.7600\n",
      "Epoch 37/100\n",
      "400/400 [==============================] - 16s 41ms/step - loss: 0.4490 - categorical_accuracy: 0.7875 - val_loss: 0.4640 - val_categorical_accuracy: 0.7900\n",
      "Epoch 38/100\n",
      "400/400 [==============================] - 16s 41ms/step - loss: 0.4478 - categorical_accuracy: 0.7925 - val_loss: 0.4055 - val_categorical_accuracy: 0.8100\n",
      "Epoch 39/100\n",
      "400/400 [==============================] - 16s 41ms/step - loss: 1.2086 - categorical_accuracy: 0.6275 - val_loss: 2.8388 - val_categorical_accuracy: 0.3100\n",
      "Epoch 40/100\n",
      "400/400 [==============================] - 16s 41ms/step - loss: 2.5738 - categorical_accuracy: 0.3475 - val_loss: 1.3030 - val_categorical_accuracy: 0.4600\n",
      "Epoch 41/100\n",
      "400/400 [==============================] - 16s 41ms/step - loss: 1.3301 - categorical_accuracy: 0.4250 - val_loss: 1.3373 - val_categorical_accuracy: 0.3300\n",
      "Epoch 42/100\n",
      "400/400 [==============================] - 16s 41ms/step - loss: 1.2713 - categorical_accuracy: 0.4450 - val_loss: 1.0345 - val_categorical_accuracy: 0.5300\n",
      "Epoch 43/100\n",
      "400/400 [==============================] - 16s 41ms/step - loss: 1.1062 - categorical_accuracy: 0.5000 - val_loss: 1.0048 - val_categorical_accuracy: 0.5800\n",
      "Epoch 44/100\n",
      "400/400 [==============================] - 16s 41ms/step - loss: 1.0001 - categorical_accuracy: 0.5800 - val_loss: 0.9574 - val_categorical_accuracy: 0.6700\n",
      "Epoch 45/100\n",
      "400/400 [==============================] - 16s 41ms/step - loss: 0.9063 - categorical_accuracy: 0.6225 - val_loss: 0.8078 - val_categorical_accuracy: 0.7100\n",
      "Epoch 46/100\n",
      "400/400 [==============================] - 16s 41ms/step - loss: 0.8103 - categorical_accuracy: 0.6950 - val_loss: 0.7870 - val_categorical_accuracy: 0.6600\n",
      "Epoch 47/100\n",
      "400/400 [==============================] - 16s 41ms/step - loss: 0.7662 - categorical_accuracy: 0.6625 - val_loss: 0.6708 - val_categorical_accuracy: 0.6600\n",
      "Epoch 48/100\n",
      "400/400 [==============================] - 16s 41ms/step - loss: 0.7057 - categorical_accuracy: 0.6625 - val_loss: 0.6151 - val_categorical_accuracy: 0.6800\n"
     ]
    },
    {
     "name": "stdout",
     "output_type": "stream",
     "text": [
      "Epoch 49/100\n",
      "400/400 [==============================] - 16s 41ms/step - loss: 0.6464 - categorical_accuracy: 0.6800 - val_loss: 0.5899 - val_categorical_accuracy: 0.6600\n",
      "Epoch 50/100\n",
      "400/400 [==============================] - 16s 41ms/step - loss: 0.6069 - categorical_accuracy: 0.7025 - val_loss: 0.5832 - val_categorical_accuracy: 0.6800\n",
      "Epoch 51/100\n",
      "400/400 [==============================] - 16s 41ms/step - loss: 0.6072 - categorical_accuracy: 0.7075 - val_loss: 0.5718 - val_categorical_accuracy: 0.7100\n",
      "Epoch 52/100\n",
      "400/400 [==============================] - 16s 41ms/step - loss: 0.6140 - categorical_accuracy: 0.7150 - val_loss: 0.5622 - val_categorical_accuracy: 0.7200\n",
      "Epoch 53/100\n",
      "400/400 [==============================] - 16s 41ms/step - loss: 0.6209 - categorical_accuracy: 0.6850 - val_loss: 0.5579 - val_categorical_accuracy: 0.7300\n",
      "Epoch 54/100\n",
      "400/400 [==============================] - 16s 41ms/step - loss: 0.5781 - categorical_accuracy: 0.7200 - val_loss: 0.5497 - val_categorical_accuracy: 0.7700\n",
      "Epoch 55/100\n",
      "400/400 [==============================] - 16s 41ms/step - loss: 0.5767 - categorical_accuracy: 0.7100 - val_loss: 0.5445 - val_categorical_accuracy: 0.7700\n",
      "Epoch 56/100\n",
      "400/400 [==============================] - 16s 41ms/step - loss: 0.5540 - categorical_accuracy: 0.7400 - val_loss: 0.5372 - val_categorical_accuracy: 0.7200\n",
      "Epoch 57/100\n",
      "400/400 [==============================] - 16s 41ms/step - loss: 0.5458 - categorical_accuracy: 0.7400 - val_loss: 0.5240 - val_categorical_accuracy: 0.7300\n",
      "Epoch 58/100\n",
      "400/400 [==============================] - 16s 41ms/step - loss: 0.5243 - categorical_accuracy: 0.7450 - val_loss: 0.4995 - val_categorical_accuracy: 0.8000\n",
      "Epoch 59/100\n",
      "400/400 [==============================] - 16s 41ms/step - loss: 0.4998 - categorical_accuracy: 0.7775 - val_loss: 0.4946 - val_categorical_accuracy: 0.7700\n",
      "Epoch 60/100\n",
      "400/400 [==============================] - 16s 41ms/step - loss: 0.4753 - categorical_accuracy: 0.7850 - val_loss: 0.4578 - val_categorical_accuracy: 0.7900\n",
      "Epoch 61/100\n",
      "400/400 [==============================] - 16s 41ms/step - loss: 0.4484 - categorical_accuracy: 0.7900 - val_loss: 0.4181 - val_categorical_accuracy: 0.8000\n",
      "Epoch 62/100\n",
      "400/400 [==============================] - 16s 41ms/step - loss: 0.4357 - categorical_accuracy: 0.8025 - val_loss: 0.3755 - val_categorical_accuracy: 0.8400\n",
      "Epoch 63/100\n",
      "400/400 [==============================] - 16s 41ms/step - loss: 0.3924 - categorical_accuracy: 0.8325 - val_loss: 0.3163 - val_categorical_accuracy: 0.8600\n",
      "Epoch 64/100\n",
      "400/400 [==============================] - 16s 41ms/step - loss: 0.3405 - categorical_accuracy: 0.8400 - val_loss: 0.2709 - val_categorical_accuracy: 0.8900\n",
      "Epoch 65/100\n",
      "400/400 [==============================] - 16s 41ms/step - loss: 0.2874 - categorical_accuracy: 0.8575 - val_loss: 0.2481 - val_categorical_accuracy: 0.9100\n",
      "Epoch 66/100\n",
      "400/400 [==============================] - 16s 41ms/step - loss: 0.2619 - categorical_accuracy: 0.8925 - val_loss: 0.2527 - val_categorical_accuracy: 0.8700\n",
      "Epoch 67/100\n",
      "400/400 [==============================] - 16s 41ms/step - loss: 0.2598 - categorical_accuracy: 0.8900 - val_loss: 0.2335 - val_categorical_accuracy: 0.8900\n",
      "Epoch 68/100\n",
      "400/400 [==============================] - 16s 41ms/step - loss: 0.2363 - categorical_accuracy: 0.9000 - val_loss: 0.2343 - val_categorical_accuracy: 0.8800\n",
      "Epoch 69/100\n",
      "400/400 [==============================] - 16s 41ms/step - loss: 0.2318 - categorical_accuracy: 0.8950 - val_loss: 0.2217 - val_categorical_accuracy: 0.9200\n",
      "Epoch 70/100\n",
      "400/400 [==============================] - 16s 41ms/step - loss: 0.2414 - categorical_accuracy: 0.8800 - val_loss: 0.2095 - val_categorical_accuracy: 0.8900\n",
      "Epoch 71/100\n",
      "400/400 [==============================] - 16s 41ms/step - loss: 0.2424 - categorical_accuracy: 0.8825 - val_loss: 0.2056 - val_categorical_accuracy: 0.9000\n",
      "Epoch 72/100\n",
      "400/400 [==============================] - 16s 41ms/step - loss: 0.2430 - categorical_accuracy: 0.8750 - val_loss: 0.2001 - val_categorical_accuracy: 0.9000\n",
      "Epoch 73/100\n",
      "400/400 [==============================] - 16s 41ms/step - loss: 0.1951 - categorical_accuracy: 0.9225 - val_loss: 0.1826 - val_categorical_accuracy: 0.9500\n",
      "Epoch 74/100\n",
      "400/400 [==============================] - 16s 41ms/step - loss: 0.1857 - categorical_accuracy: 0.9300 - val_loss: 0.1928 - val_categorical_accuracy: 0.8900\n",
      "Epoch 75/100\n",
      "400/400 [==============================] - 16s 41ms/step - loss: 0.1786 - categorical_accuracy: 0.9175 - val_loss: 0.1508 - val_categorical_accuracy: 0.9600\n",
      "Epoch 76/100\n",
      "400/400 [==============================] - 16s 41ms/step - loss: 0.1869 - categorical_accuracy: 0.9200 - val_loss: 0.1241 - val_categorical_accuracy: 0.9600\n",
      "Epoch 77/100\n",
      "400/400 [==============================] - 16s 41ms/step - loss: 0.2199 - categorical_accuracy: 0.8900 - val_loss: 0.1753 - val_categorical_accuracy: 0.9300\n",
      "Epoch 78/100\n",
      "400/400 [==============================] - 16s 41ms/step - loss: 0.1927 - categorical_accuracy: 0.9175 - val_loss: 0.1548 - val_categorical_accuracy: 0.9700\n",
      "Epoch 79/100\n",
      "400/400 [==============================] - 16s 41ms/step - loss: 0.1930 - categorical_accuracy: 0.9075 - val_loss: 0.1402 - val_categorical_accuracy: 0.9500\n",
      "Epoch 80/100\n",
      "400/400 [==============================] - 16s 41ms/step - loss: 0.1555 - categorical_accuracy: 0.9425 - val_loss: 0.1143 - val_categorical_accuracy: 0.9500\n",
      "Epoch 81/100\n",
      "400/400 [==============================] - 16s 41ms/step - loss: 0.1711 - categorical_accuracy: 0.9375 - val_loss: 0.1152 - val_categorical_accuracy: 0.9500\n",
      "Epoch 82/100\n",
      "400/400 [==============================] - 16s 41ms/step - loss: 0.1849 - categorical_accuracy: 0.9150 - val_loss: 0.1435 - val_categorical_accuracy: 0.9400\n",
      "Epoch 83/100\n",
      "400/400 [==============================] - 16s 41ms/step - loss: 0.1639 - categorical_accuracy: 0.9425 - val_loss: 0.1302 - val_categorical_accuracy: 0.9700\n",
      "Epoch 84/100\n",
      "400/400 [==============================] - 16s 41ms/step - loss: 0.1319 - categorical_accuracy: 0.9525 - val_loss: 0.1179 - val_categorical_accuracy: 0.9500\n",
      "Epoch 85/100\n",
      "400/400 [==============================] - 16s 41ms/step - loss: 0.1161 - categorical_accuracy: 0.9575 - val_loss: 0.0418 - val_categorical_accuracy: 1.0000\n",
      "Epoch 84: Reached baseline, terminating training\n"
     ]
    }
   ],
   "source": [
    "history = model.fit(data_x_encoded, to_categorical(data_y), batch_size=64, class_weight=class_weight,\n",
    "                    epochs=100, verbose=1, callbacks=[TerminateOnBaseline(monitor='val_categorical_accuracy', baseline=1.0)], \n",
    "                    validation_data=(val_x_encoded, to_categorical(val_y)))"
   ]
  },
  {
   "cell_type": "code",
   "execution_count": 7,
   "metadata": {},
   "outputs": [],
   "source": [
    "test_x_encoded = vectorise_sequence(test_x)"
   ]
  },
  {
   "cell_type": "code",
   "execution_count": 8,
   "metadata": {},
   "outputs": [],
   "source": [
    "y = model.predict(test_x_encoded)"
   ]
  },
  {
   "cell_type": "code",
   "execution_count": 16,
   "metadata": {},
   "outputs": [],
   "source": [
    "y = np.array([np.argmax(arr) for arr in y])"
   ]
  },
  {
   "cell_type": "code",
   "execution_count": 17,
   "metadata": {},
   "outputs": [
    {
     "data": {
      "text/plain": [
       "(250,)"
      ]
     },
     "execution_count": 17,
     "metadata": {},
     "output_type": "execute_result"
    }
   ],
   "source": [
    "y.shape"
   ]
  },
  {
   "cell_type": "code",
   "execution_count": 18,
   "metadata": {},
   "outputs": [],
   "source": [
    "np.save('prediction.npy', y)"
   ]
  }
 ],
 "metadata": {
  "kernelspec": {
   "display_name": "Python 3",
   "language": "python",
   "name": "python3"
  },
  "language_info": {
   "codemirror_mode": {
    "name": "ipython",
    "version": 3
   },
   "file_extension": ".py",
   "mimetype": "text/x-python",
   "name": "python",
   "nbconvert_exporter": "python",
   "pygments_lexer": "ipython3",
   "version": "3.6.8"
  }
 },
 "nbformat": 4,
 "nbformat_minor": 2
}
