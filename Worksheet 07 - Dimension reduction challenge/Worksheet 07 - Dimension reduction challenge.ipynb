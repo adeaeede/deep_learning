{
 "cells": [
  {
   "cell_type": "code",
   "execution_count": 1,
   "metadata": {},
   "outputs": [
    {
     "name": "stderr",
     "output_type": "stream",
     "text": [
      "Using TensorFlow backend.\n"
     ]
    }
   ],
   "source": [
    "import numpy as np\n",
    "import scipy.linalg\n",
    "import keras\n",
    "import itertools\n",
    "from hmmlearn import hmm"
   ]
  },
  {
   "cell_type": "code",
   "execution_count": 2,
   "metadata": {},
   "outputs": [],
   "source": [
    "def whitening(z):\n",
    "    x = z - np.mean(z, axis=0)\n",
    "    c = np.linalg.inv(scipy.linalg.sqrtm(x.T @ x / len(x)))\n",
    "    x = c @ x.T\n",
    "    return x.T"
   ]
  },
  {
   "cell_type": "code",
   "execution_count": 3,
   "metadata": {},
   "outputs": [],
   "source": [
    "def tae(hidden, latent_dim, dropout=0.):\n",
    "    in_ = x = keras.layers.Input((3,))\n",
    "    for units in hidden:\n",
    "        x = keras.layers.Dense(units)(x)\n",
    "        if dropout:\n",
    "            x = keras.layers.Dropout(dropout)(x)\n",
    "        x = keras.layers.LeakyReLU(0.001)(x)\n",
    "    x = keras.layers.Dense(latent_dim, name='latent')(x)\n",
    "    for units in hidden[::-1]:\n",
    "        x = keras.layers.Dense(units)(x)\n",
    "        if dropout:\n",
    "            x = keras.layers.Dropout(dropout)(x)\n",
    "        x = keras.layers.LeakyReLU(0.001)(x)\n",
    "    out_ = keras.layers.Dense(3)(x)\n",
    "    return keras.models.Model(in_, out_)"
   ]
  },
  {
   "cell_type": "code",
   "execution_count": 4,
   "metadata": {},
   "outputs": [],
   "source": [
    "def metastate_accuracy(y_true, y_pred):\n",
    "    assert y_true.shape == y_pred.shape\n",
    "    metastates_true = np.unique(y_true)\n",
    "    metastates_pred = np.unique(y_pred)\n",
    "    assert len(metastates_true) == len(metastates_pred)\n",
    "    accuracies = []\n",
    "    for configuration in itertools.permutations(metastates_pred):\n",
    "        correct = 0\n",
    "        for metastate_true, metastate_pred in zip(metastates_true, configuration):\n",
    "            correct += np.sum(y_pred[np.where(y_true == metastate_true)] == metastate_pred)\n",
    "        accuracy = correct / len(y_true)\n",
    "        accuracies.append(accuracy)\n",
    "    return np.max(accuracies)"
   ]
  },
  {
   "cell_type": "code",
   "execution_count": 6,
   "metadata": {},
   "outputs": [],
   "source": [
    "data = np.load('dimredux-challenge-01-data.npz')\n",
    "data_x = data['data_x']\n",
    "validation_x = data['validation_x']\n",
    "validation_y = data['validation_y']"
   ]
  },
  {
   "cell_type": "code",
   "execution_count": 7,
   "metadata": {},
   "outputs": [
    {
     "name": "stdout",
     "output_type": "stream",
     "text": [
      "WARNING:tensorflow:From /usr/local/lib/python3.7/site-packages/tensorflow/python/framework/op_def_library.py:263: colocate_with (from tensorflow.python.framework.ops) is deprecated and will be removed in a future version.\n",
      "Instructions for updating:\n",
      "Colocations handled automatically by placer.\n",
      "WARNING:tensorflow:From /usr/local/lib/python3.7/site-packages/keras/backend/tensorflow_backend.py:3445: calling dropout (from tensorflow.python.ops.nn_ops) with keep_prob is deprecated and will be removed in a future version.\n",
      "Instructions for updating:\n",
      "Please use `rate` instead of `keep_prob`. Rate should be set to `rate = 1 - keep_prob`.\n",
      "_________________________________________________________________\n",
      "Layer (type)                 Output Shape              Param #   \n",
      "=================================================================\n",
      "input_1 (InputLayer)         (None, 3)                 0         \n",
      "_________________________________________________________________\n",
      "dense_1 (Dense)              (None, 100)               400       \n",
      "_________________________________________________________________\n",
      "dropout_1 (Dropout)          (None, 100)               0         \n",
      "_________________________________________________________________\n",
      "leaky_re_lu_1 (LeakyReLU)    (None, 100)               0         \n",
      "_________________________________________________________________\n",
      "dense_2 (Dense)              (None, 200)               20200     \n",
      "_________________________________________________________________\n",
      "dropout_2 (Dropout)          (None, 200)               0         \n",
      "_________________________________________________________________\n",
      "leaky_re_lu_2 (LeakyReLU)    (None, 200)               0         \n",
      "_________________________________________________________________\n",
      "latent (Dense)               (None, 1)                 201       \n",
      "_________________________________________________________________\n",
      "dense_3 (Dense)              (None, 200)               400       \n",
      "_________________________________________________________________\n",
      "dropout_3 (Dropout)          (None, 200)               0         \n",
      "_________________________________________________________________\n",
      "leaky_re_lu_3 (LeakyReLU)    (None, 200)               0         \n",
      "_________________________________________________________________\n",
      "dense_4 (Dense)              (None, 100)               20100     \n",
      "_________________________________________________________________\n",
      "dropout_4 (Dropout)          (None, 100)               0         \n",
      "_________________________________________________________________\n",
      "leaky_re_lu_4 (LeakyReLU)    (None, 100)               0         \n",
      "_________________________________________________________________\n",
      "dense_5 (Dense)              (None, 3)                 303       \n",
      "=================================================================\n",
      "Total params: 41,604\n",
      "Trainable params: 41,604\n",
      "Non-trainable params: 0\n",
      "_________________________________________________________________\n"
     ]
    }
   ],
   "source": [
    "tau = 1\n",
    "num_metastates = 4\n",
    "x_train = whitening(data_x[:-tau])\n",
    "y_train = whitening(data_x[tau:])\n",
    "\n",
    "x_val = whitening(validation_x[:-tau])\n",
    "y_val = whitening(validation_x[tau:])\n",
    "\n",
    "model = tae(hidden=[100, 200], latent_dim=1, dropout=0.5)\n",
    "model.compile(optimizer='adam', loss='mse')\n",
    "\n",
    "model.summary()"
   ]
  },
  {
   "cell_type": "code",
   "execution_count": 8,
   "metadata": {},
   "outputs": [],
   "source": [
    "encoder = keras.models.Model(model.input, model.get_layer('latent').output)"
   ]
  },
  {
   "cell_type": "code",
   "execution_count": 9,
   "metadata": {},
   "outputs": [
    {
     "name": "stdout",
     "output_type": "stream",
     "text": [
      "WARNING:tensorflow:From /usr/local/lib/python3.7/site-packages/tensorflow/python/ops/math_ops.py:3066: to_int32 (from tensorflow.python.ops.math_ops) is deprecated and will be removed in a future version.\n",
      "Instructions for updating:\n",
      "Use tf.cast instead.\n",
      "Train on 99999 samples, validate on 999 samples\n",
      "Epoch 1/10\n",
      " - 2s - loss: 0.7614 - val_loss: 0.6697\n",
      "Epoch 2/10\n",
      " - 1s - loss: 0.6932 - val_loss: 0.6525\n",
      "Epoch 3/10\n",
      " - 1s - loss: 0.6819 - val_loss: 0.6469\n",
      "Epoch 4/10\n",
      " - 2s - loss: 0.6781 - val_loss: 0.6445\n",
      "Epoch 5/10\n",
      " - 2s - loss: 0.6759 - val_loss: 0.6472\n",
      "Epoch 6/10\n",
      " - 1s - loss: 0.6741 - val_loss: 0.6457\n",
      "Epoch 7/10\n",
      " - 1s - loss: 0.6742 - val_loss: 0.6461\n",
      "Epoch 8/10\n",
      " - 1s - loss: 0.6737 - val_loss: 0.6448\n",
      "Epoch 9/10\n",
      " - 1s - loss: 0.6732 - val_loss: 0.6436\n",
      "Epoch 10/10\n",
      " - 1s - loss: 0.6729 - val_loss: 0.6449\n"
     ]
    },
    {
     "data": {
      "text/plain": [
       "<keras.callbacks.History at 0x124f204e0>"
      ]
     },
     "execution_count": 9,
     "metadata": {},
     "output_type": "execute_result"
    }
   ],
   "source": [
    "model.fit(x_train, y_train, batch_size=256, epochs=10,\n",
    "          verbose=2, validation_data=(x_val, y_val))"
   ]
  },
  {
   "cell_type": "code",
   "execution_count": 10,
   "metadata": {},
   "outputs": [],
   "source": [
    "x_val = whitening(validation_x)\n",
    "x_val_encoded = encoder.predict(x_val)\n",
    "\n",
    "metastate_model = hmm.GaussianHMM(n_components=num_metastates, covariance_type='full', n_iter=100)\n",
    "metastate_model.fit(x_val_encoded)\n",
    "\n",
    "validation_y_pred = metastate_model.predict(x_val_encoded)\n",
    "\n",
    "val_acc = metastate_accuracy(validation_y, validation_y_pred)"
   ]
  },
  {
   "cell_type": "code",
   "execution_count": 11,
   "metadata": {},
   "outputs": [
    {
     "name": "stdout",
     "output_type": "stream",
     "text": [
      "validation accuracy: 100.00%\n"
     ]
    }
   ],
   "source": [
    "print('validation accuracy: {:.2%}'.format(val_acc))"
   ]
  },
  {
   "cell_type": "code",
   "execution_count": 16,
   "metadata": {},
   "outputs": [],
   "source": [
    "data_x = whitening(data_x)\n",
    "data_x_encoded = encoder.predict(data_x)\n",
    "data_y = metastate_model.predict(data_x_encoded)"
   ]
  },
  {
   "cell_type": "code",
   "execution_count": 18,
   "metadata": {},
   "outputs": [],
   "source": [
    "assert(data_y.shape == (100000,))\n",
    "np.save('prediction.npy', data_y)"
   ]
  }
 ],
 "metadata": {
  "kernelspec": {
   "display_name": "Python 3",
   "language": "python",
   "name": "python3"
  },
  "language_info": {
   "codemirror_mode": {
    "name": "ipython",
    "version": 3
   },
   "file_extension": ".py",
   "mimetype": "text/x-python",
   "name": "python",
   "nbconvert_exporter": "python",
   "pygments_lexer": "ipython3",
   "version": "3.7.2"
  }
 },
 "nbformat": 4,
 "nbformat_minor": 2
}
