{
 "cells": [
  {
   "cell_type": "code",
   "execution_count": 1,
   "metadata": {},
   "outputs": [],
   "source": [
    "import tensorflow as tf\n",
    "import numpy as np\n",
    "import matplotlib.pyplot as plt"
   ]
  },
  {
   "cell_type": "code",
   "execution_count": 2,
   "metadata": {},
   "outputs": [],
   "source": [
    "#guarantee fixed seeds for comparability\n",
    "np.random.seed(42)\n",
    "tf.random.set_random_seed(42)"
   ]
  },
  {
   "cell_type": "markdown",
   "metadata": {},
   "source": [
    "# Part 1: Tensorflow Basics"
   ]
  },
  {
   "cell_type": "markdown",
   "metadata": {},
   "source": [
    "Tensorflow is a python library that allows you to conveniently design and optimize complicated parameterized computational flows while taking away most of the effort to specify the technical aspects of parallel computing by hand.\n",
    "\n",
    "It consists of a `graph` of computation nodes, that depend on each other and together represent a function.\n",
    "\n",
    "To maintain a state within this graph (needed to represent functions that possess parameters that can be tuned) the execution runtime is captured within a `session`. The `session` maintains the state of parameters and allows for executing the graph as a regular function given its inputs."
   ]
  },
  {
   "cell_type": "markdown",
   "metadata": {},
   "source": [
    "### Simple computation flow specification and execution"
   ]
  },
  {
   "cell_type": "markdown",
   "metadata": {},
   "source": [
    "First we create an empty tensorflow graph"
   ]
  },
  {
   "cell_type": "code",
   "execution_count": 3,
   "metadata": {},
   "outputs": [],
   "source": [
    "graph = tf.Graph()"
   ]
  },
  {
   "cell_type": "markdown",
   "metadata": {},
   "source": [
    "Then we bind a session to this graph"
   ]
  },
  {
   "cell_type": "code",
   "execution_count": 4,
   "metadata": {},
   "outputs": [],
   "source": [
    "# this line opens a context in which all following tensorflow operations are bound to the graph\n",
    "with graph.as_default():\n",
    "    session = tf.Session()"
   ]
  },
  {
   "cell_type": "markdown",
   "metadata": {},
   "source": [
    "Add a simple computation flow $c \\gets a + b$ to the session's graph"
   ]
  },
  {
   "cell_type": "code",
   "execution_count": 5,
   "metadata": {},
   "outputs": [],
   "source": [
    "with graph.as_default():\n",
    "    \n",
    "    # create two constants a and b\n",
    "    a = tf.constant([1.], name=\"a\")\n",
    "    b = tf.constant([3.], name=\"b\")\n",
    "    \n",
    "    # c is the node resulting from adding a and b\n",
    "    c = a + b"
   ]
  },
  {
   "cell_type": "markdown",
   "metadata": {},
   "source": [
    "__Keep in mind__: all tensorflow operations (ops) yield computation nodes with dependencies. \n",
    "\n",
    "They do not equate with the computed value. \n",
    "\n",
    "Ops have to be seen as objects that emit an output message once they obtain messages to all of their inputs."
   ]
  },
  {
   "cell_type": "code",
   "execution_count": 6,
   "metadata": {},
   "outputs": [
    {
     "name": "stdout",
     "output_type": "stream",
     "text": [
      "a: Tensor(\"a:0\", shape=(1,), dtype=float32)\n",
      "b: Tensor(\"b:0\", shape=(1,), dtype=float32)\n",
      "c: Tensor(\"add:0\", shape=(1,), dtype=float32)\n",
      "parents of c: [<tf.Tensor 'a:0' shape=(1,) dtype=float32>, <tf.Tensor 'b:0' shape=(1,) dtype=float32>]\n"
     ]
    }
   ],
   "source": [
    "print(f\"a: {a}\")\n",
    "print(f\"b: {b}\")\n",
    "print(f\"c: {c}\")\n",
    "\n",
    "# we can always peek into the inputs that are required to compute the value of a node\n",
    "print(f\"parents of c: {list(c.op.inputs)}\")"
   ]
  },
  {
   "cell_type": "markdown",
   "metadata": {},
   "source": [
    "Our graph is completely determined by the nodes $c \\gets a + b$, $a \\gets 1$, $b \\gets 3$."
   ]
  },
  {
   "cell_type": "markdown",
   "metadata": {},
   "source": [
    "Now the output node $c$ within our session"
   ]
  },
  {
   "cell_type": "code",
   "execution_count": 7,
   "metadata": {},
   "outputs": [
    {
     "data": {
      "text/plain": [
       "array([4.], dtype=float32)"
      ]
     },
     "execution_count": 7,
     "metadata": {},
     "output_type": "execute_result"
    }
   ],
   "source": [
    "# again ensure that we use the right graph\n",
    "with graph.as_default():\n",
    "    \n",
    "    # execute the node c (including all its dependencies) and store its result\n",
    "    c_output = session.run(c)\n",
    "    \n",
    "# the result is now a numpy array\n",
    "c_output"
   ]
  },
  {
   "cell_type": "markdown",
   "metadata": {},
   "source": [
    "### Interacting with the graph "
   ]
  },
  {
   "cell_type": "markdown",
   "metadata": {},
   "source": [
    "Right now we cannot add arguments to the function represented by our computation graph. This can be remedied by adding _placeholders_."
   ]
  },
  {
   "cell_type": "code",
   "execution_count": 8,
   "metadata": {},
   "outputs": [],
   "source": [
    "# again ensure that we use the right graph\n",
    "with graph.as_default():\n",
    "    \n",
    "    # add a placeholder op d to the graph that we can later feed with values when executing the graph\n",
    "    # i.e. by calling session.run(...)\n",
    "    d = tf.placeholder(dtype=tf.float32, shape=(), name=\"d\")\n",
    "    \n",
    "    # we can use placeholders in the same way as other ops\n",
    "    e = c + d"
   ]
  },
  {
   "cell_type": "code",
   "execution_count": 9,
   "metadata": {},
   "outputs": [
    {
     "name": "stdout",
     "output_type": "stream",
     "text": [
      "d: Tensor(\"d:0\", shape=(), dtype=float32)\n",
      "e: Tensor(\"add_1:0\", shape=(1,), dtype=float32)\n",
      "parents of e: [<tf.Tensor 'add:0' shape=(1,) dtype=float32>, <tf.Tensor 'd:0' shape=() dtype=float32>]\n"
     ]
    }
   ],
   "source": [
    "print(f\"d: {d}\")\n",
    "print(f\"e: {e}\")\n",
    "print(f\"parents of e: {list(e.op.inputs)}\")"
   ]
  },
  {
   "cell_type": "markdown",
   "metadata": {},
   "source": [
    "If an op within a graph possesses inputs that are placeholders those have to be fed with values in order to be able to execute the graph. \n",
    "\n",
    "Values for placeholders are fed to the graph, by giving a `feed_dict` as an argument to `session.run(...)`. \n",
    "\n",
    "The `feed_dict` is a regular python dictionary, where the keys are given by the required placeholders and the values by the values that are to be assigned to those.\n",
    "\n",
    "If a placeholder is part of a dependency and yet unassigned tensorflow will throw an exception. \n",
    "\n",
    "You can reproduce this by removing the `feed_dict={...}` argument from the `session.run(...)` below."
   ]
  },
  {
   "cell_type": "code",
   "execution_count": 10,
   "metadata": {},
   "outputs": [
    {
     "name": "stdout",
     "output_type": "stream",
     "text": [
      "[42.]\n"
     ]
    }
   ],
   "source": [
    "# again ensure that we use the right graph\n",
    "with session.graph.as_default():\n",
    "    \n",
    "    # execute the node e by setting the placeholder d to be 38\n",
    "    e_output = session.run(e, feed_dict={d: 38})\n",
    "    \n",
    "print(e_output)"
   ]
  },
  {
   "cell_type": "markdown",
   "metadata": {},
   "source": [
    "### Adding Variables"
   ]
  },
  {
   "cell_type": "markdown",
   "metadata": {},
   "source": [
    "Tensorflow allows to assign parameters to a computation graph, which parameterize the behavior of the represented functions.\n",
    "\n",
    "Parameters can then, e.g., be optimized such that the represented function minimizes a loss."
   ]
  },
  {
   "cell_type": "code",
   "execution_count": 11,
   "metadata": {},
   "outputs": [
    {
     "name": "stdout",
     "output_type": "stream",
     "text": [
      "WARNING:tensorflow:From /usr/local/lib/python3.7/site-packages/tensorflow/python/framework/op_def_library.py:263: colocate_with (from tensorflow.python.framework.ops) is deprecated and will be removed in a future version.\n",
      "Instructions for updating:\n",
      "Colocations handled automatically by placer.\n"
     ]
    }
   ],
   "source": [
    "# again ensure that we use the right graph\n",
    "with graph.as_default():\n",
    "    \n",
    "    # add a named variable f to the graph that is by default initialized to a constant\n",
    "    f = tf.get_variable(\"f\", shape=(), initializer=tf.initializers.constant(38.))\n",
    "    \n",
    "    # variables are again usable in the same way as any other op\n",
    "    g = c + f"
   ]
  },
  {
   "cell_type": "code",
   "execution_count": 12,
   "metadata": {},
   "outputs": [
    {
     "name": "stdout",
     "output_type": "stream",
     "text": [
      "f: <tf.Variable 'f:0' shape=() dtype=float32_ref>\n",
      "g: Tensor(\"add_2:0\", shape=(1,), dtype=float32)\n",
      "parents of g: [<tf.Tensor 'add:0' shape=(1,) dtype=float32>, <tf.Tensor 'f/read:0' shape=() dtype=float32>]\n"
     ]
    }
   ],
   "source": [
    "print(f\"f: {f}\")\n",
    "print(f\"g: {g}\")\n",
    "print(f\"parents of g: {list(g.op.inputs)}\")"
   ]
  },
  {
   "cell_type": "markdown",
   "metadata": {},
   "source": [
    "Similarily as with the placeholders any variable that is input to another op has to possess a set value before this op can be evaluated. This can be done by calling the `initializer` of the variable. \n",
    "\n",
    "While doing this explicitly is possible, it would be quite tedious for complicated graphs. \n",
    "\n",
    "Thus, tensorflow allows for simultaneously initializing all variables in the graph at once.\n",
    "\n",
    "If a variable is not initialized before a dependent op is executed tensorflow will throw an exception. You can reproduce this, by commenting out\n",
    "```\n",
    "    initializer = tf.global_variables_initializer()\n",
    "    session.run(initializer)\n",
    "```\n",
    "in the code snippet below (if this has already been executed, you might need to restart the notebook to see the effect)."
   ]
  },
  {
   "cell_type": "code",
   "execution_count": 13,
   "metadata": {},
   "outputs": [
    {
     "data": {
      "text/plain": [
       "array([42.], dtype=float32)"
      ]
     },
     "execution_count": 13,
     "metadata": {},
     "output_type": "execute_result"
    }
   ],
   "source": [
    "# again ensure that we use the right graph\n",
    "with graph.as_default():\n",
    "    \n",
    "    # create an initializer op in the graph\n",
    "    # if the initializer is executed it will initialize all variables in the graph\n",
    "    # with their respective initializer op\n",
    "    initializer = tf.global_variables_initializer()\n",
    "    session.run(initializer)\n",
    "    \n",
    "    # now that all variables have a value set we can evaluate g as well\n",
    "    g_output = session.run(g)\n",
    "\n",
    "g_output"
   ]
  },
  {
   "cell_type": "markdown",
   "metadata": {},
   "source": [
    "### Reusing Variables"
   ]
  },
  {
   "cell_type": "markdown",
   "metadata": {},
   "source": [
    "Once a variable is defined, it is bound to its name and another variable with the same name\n",
    "cannot be created."
   ]
  },
  {
   "cell_type": "code",
   "execution_count": 14,
   "metadata": {},
   "outputs": [
    {
     "name": "stdout",
     "output_type": "stream",
     "text": [
      "Could not create \"f\".\n"
     ]
    }
   ],
   "source": [
    "with graph.as_default():\n",
    "    try:\n",
    "        f = tf.get_variable(\"f\", shape=(), initializer=tf.initializers.constant(38.))\n",
    "    except ValueError:\n",
    "        print(\"Could not create \\\"f\\\".\")"
   ]
  },
  {
   "cell_type": "markdown",
   "metadata": {},
   "source": [
    "To share variables, either the `tf.Variable` instance can be passed explicitly\n",
    "or it can be wrapped within a `tf.variable_scope`. The latter can be handy when\n",
    "defining functions that should be reused."
   ]
  },
  {
   "cell_type": "code",
   "execution_count": 15,
   "metadata": {},
   "outputs": [
    {
     "name": "stdout",
     "output_type": "stream",
     "text": [
      "This fails because TensorFlow does not know whether to reuse or recreate the variable.\n"
     ]
    }
   ],
   "source": [
    "def my_layer(inputs):\n",
    "    my_var = tf.get_variable(\"my_var\", shape=(), initializer=tf.initializers.constant(38.))\n",
    "    return inputs + my_var\n",
    "\n",
    "\n",
    "with graph.as_default():\n",
    "    output = my_layer(f)\n",
    "    try:\n",
    "        output = my_layer(output)\n",
    "    except ValueError:\n",
    "        print(\"This fails because TensorFlow does not know whether to reuse or recreate the variable.\")"
   ]
  },
  {
   "cell_type": "code",
   "execution_count": 16,
   "metadata": {},
   "outputs": [
    {
     "name": "stdout",
     "output_type": "stream",
     "text": [
      "Got variable <tf.Variable 'my_layer/my_var_with_reuse:0' shape=() dtype=float32_ref>\n",
      "Got variable <tf.Variable 'my_layer/my_var_with_reuse:0' shape=() dtype=float32_ref>\n"
     ]
    }
   ],
   "source": [
    "def my_layer_with_reuse(inputs, reuse=False):\n",
    "    with tf.variable_scope(\"my_layer\", reuse=reuse):\n",
    "        my_var = tf.get_variable(\"my_var_with_reuse\", shape=(), initializer=tf.initializers.constant(38.))\n",
    "        print(f\"Got variable {my_var}\")\n",
    "    return inputs + my_var\n",
    "\n",
    "\n",
    "with graph.as_default():\n",
    "    output = my_layer_with_reuse(f)\n",
    "    try:\n",
    "        output = my_layer_with_reuse(output, True)\n",
    "    except ValueError:\n",
    "        print(\"This fails because TensorFlow does not know whether to reuse or recreate the variable.\")"
   ]
  },
  {
   "cell_type": "markdown",
   "metadata": {},
   "source": [
    "Here we had to specify whether to reuse the variable explicitly. Per default,\n",
    "TensorFlow will create the variable if it did not exist and otherwise reuse it\n",
    "in a `variable_scope`:"
   ]
  },
  {
   "cell_type": "code",
   "execution_count": 17,
   "metadata": {},
   "outputs": [
    {
     "name": "stdout",
     "output_type": "stream",
     "text": [
      "Got variable <tf.Variable 'my_layer/my_var2:0' shape=() dtype=float32_ref>\n",
      "Got variable <tf.Variable 'my_layer/my_var2:0' shape=() dtype=float32_ref>\n"
     ]
    }
   ],
   "source": [
    "def my_layer_with_reuse(inputs):\n",
    "    with tf.variable_scope(\"my_layer\", reuse=tf.AUTO_REUSE):\n",
    "        my_var = tf.get_variable(\"my_var2\", shape=(), initializer=tf.initializers.constant(38.))\n",
    "        print(f\"Got variable {my_var}\")\n",
    "    return inputs + my_var\n",
    "\n",
    "\n",
    "with graph.as_default():\n",
    "    output = my_layer_with_reuse(f)\n",
    "    output = my_layer_with_reuse(output)"
   ]
  },
  {
   "cell_type": "markdown",
   "metadata": {},
   "source": [
    "# Part 2: Linear Regression"
   ]
  },
  {
   "cell_type": "markdown",
   "metadata": {},
   "source": [
    "Now lets make something usable: [Linear Regression](https://en.wikipedia.org/wiki/Linear_regression)!\n",
    "\n",
    "A linear model is a function  $f_{W} \\colon \\mathbb{R}^{d_1} \\rightarrow \\mathbb{R}^{d_2}$ given by\n",
    "\n",
    "$$ f_W(x) = Wx $$\n",
    "\n",
    "where the data matrix $W \\in \\mathbb{R}^{d_2 \\times d_1}$ holds the _parameters_ of the model.\n",
    "\n",
    "Before we can fit something, we need to generate data:"
   ]
  },
  {
   "cell_type": "markdown",
   "metadata": {},
   "source": [
    "Our ground truth is given by a simple 1D harmonic function, which cannot be properly represented by linear function. However, we can try to find the best possible fit.\n",
    "\n",
    "This means in our case we have $d_1 = 2$ and $d_2 = 1$ with $W = (b, w)$ and $x = (1, x_0)^T$."
   ]
  },
  {
   "cell_type": "code",
   "execution_count": 18,
   "metadata": {},
   "outputs": [],
   "source": [
    "def ground_truth(x):\n",
    "    return np.sin(x) - np.cos(1.9 * x)"
   ]
  },
  {
   "cell_type": "markdown",
   "metadata": {},
   "source": [
    "We generate some samples from our model and add some artificial measurement noise. This is the data that we observe from the ground truth."
   ]
  },
  {
   "cell_type": "code",
   "execution_count": 19,
   "metadata": {},
   "outputs": [],
   "source": [
    "n_samples = 30\n",
    "noise_level = 0.3\n",
    "\n",
    "xs_data = np.random.uniform(low=-np.pi, high=np.pi, size=(n_samples, 1))\n",
    "ys_data = ground_truth(xs_data) + noise_level * np.random.normal(size=xs_data.shape)"
   ]
  },
  {
   "cell_type": "markdown",
   "metadata": {},
   "source": [
    "Plot the samples and the ground truth"
   ]
  },
  {
   "cell_type": "code",
   "execution_count": 20,
   "metadata": {
    "scrolled": true
   },
   "outputs": [
    {
     "data": {
      "text/plain": [
       "<matplotlib.legend.Legend at 0x12fd62860>"
      ]
     },
     "execution_count": 20,
     "metadata": {},
     "output_type": "execute_result"
    },
    {
     "data": {
      "image/png": "[encoded data removed]",
      "text/plain": [
       "<Figure size 432x288 with 1 Axes>"
      ]
     },
     "metadata": {
      "needs_background": "light"
     },
     "output_type": "display_data"
    }
   ],
   "source": [
    "xs = np.linspace(-np.pi, np.pi, 300)[:, np.newaxis]\n",
    "ys = ground_truth(xs)\n",
    "\n",
    "plt.plot(xs, ys, label=\"ground truth\")\n",
    "plt.scatter(xs_data, ys_data, marker=\"x\", c=\"r\", label=\"samples\")\n",
    "plt.legend()"
   ]
  },
  {
   "cell_type": "markdown",
   "metadata": {},
   "source": [
    "### Specifying the graph"
   ]
  },
  {
   "cell_type": "markdown",
   "metadata": {},
   "source": [
    "Create an empty graph and a tensorflow session for this graph."
   ]
  },
  {
   "cell_type": "code",
   "execution_count": 21,
   "metadata": {},
   "outputs": [],
   "source": [
    "graph = tf.Graph()\n",
    "\n",
    "with graph.as_default():\n",
    "    session = tf.Session()"
   ]
  },
  {
   "cell_type": "markdown",
   "metadata": {},
   "source": [
    "We start with defining the linear function. Its input is a placeholder name `data_input`, its output is the node `model_output`.\n",
    "\n",
    "We need to choose an `initializer` for the variables `weight` and `bias`. A common choice is to use Gaussian noise for the first and set the second to zero."
   ]
  },
  {
   "cell_type": "code",
   "execution_count": 22,
   "metadata": {},
   "outputs": [],
   "source": [
    "with graph.as_default():\n",
    "    \n",
    "    data_input = tf.placeholder(dtype=tf.float32, shape=(None, 1), name=\"data_input\")\n",
    "    \n",
    "    with tf.variable_scope(\"linear_model\"):\n",
    "        weight = tf.get_variable(name=\"weight\", shape=(1, 1), dtype=tf.float32, \n",
    "                            initializer=tf.initializers.random_normal())\n",
    "        bias = tf.get_variable(name=\"bias\", shape=(1, 1), dtype=tf.float32, \n",
    "                            initializer=tf.initializers.zeros())\n",
    "        model_output = weight * data_input + bias"
   ]
  },
  {
   "cell_type": "markdown",
   "metadata": {},
   "source": [
    "In order to optimize the model to fit our data, we have to specify an optimization criterion. In our case we aim to minimize the mean squared error of our model $f_W = f_{w, b}$ on the observed data $(x_n, y_n), ~ n \\in [N]$ with respect to the parameters $w, b$:\n",
    "\n",
    "$$w_{*}, b_{*} = \\arg\\min_{w, b} \\tfrac{1}{N} \\sum_{n=1}^{N}(f_{w, b}(x_i) - y_i)^{2}$$\n",
    "\n",
    "We feed in the targets $y_n$ using another placeholder `target_input`."
   ]
  },
  {
   "cell_type": "code",
   "execution_count": 23,
   "metadata": {},
   "outputs": [
    {
     "name": "stdout",
     "output_type": "stream",
     "text": [
      "WARNING:tensorflow:From /usr/local/lib/python3.7/site-packages/tensorflow/python/ops/losses/losses_impl.py:667: to_float (from tensorflow.python.ops.math_ops) is deprecated and will be removed in a future version.\n",
      "Instructions for updating:\n",
      "Use tf.cast instead.\n"
     ]
    }
   ],
   "source": [
    "with graph.as_default():\n",
    "    \n",
    "    target_input = tf.placeholder(dtype=tf.float32, shape=(None, 1), name=\"target_input\")\n",
    "    \n",
    "    loss = tf.losses.mean_squared_error(target_input, model_output)"
   ]
  },
  {
   "cell_type": "markdown",
   "metadata": {},
   "source": [
    "Now we have to specify the optimization procedure. \n",
    "\n",
    "In our case we use simple [Gradient Descent](https://en.wikipedia.org/wiki/Gradient_descent) with fixed step size parameter (in tensorflow it is called `learning_rate`).\n",
    "\n",
    "This will also be specified within the graph."
   ]
  },
  {
   "cell_type": "code",
   "execution_count": 24,
   "metadata": {},
   "outputs": [],
   "source": [
    "with graph.as_default():\n",
    "    \n",
    "    optimizer = tf.train.GradientDescentOptimizer(learning_rate=1e-3)\n",
    "    optimization_step = optimizer.minimize(loss)"
   ]
  },
  {
   "cell_type": "markdown",
   "metadata": {},
   "source": [
    "Now that model, loss and optimization routine is set up, we can initialize all variables of the model in order to start the training."
   ]
  },
  {
   "cell_type": "code",
   "execution_count": 25,
   "metadata": {},
   "outputs": [],
   "source": [
    "with graph.as_default():\n",
    "    \n",
    "    initializer = tf.global_variables_initializer()\n",
    "    session.run(initializer)"
   ]
  },
  {
   "cell_type": "markdown",
   "metadata": {},
   "source": [
    "Now that the `weight` and the `bias` have their initial values, we can show what the model predicts. \n",
    "\n",
    "Initially we should not assume that it yields anything useful."
   ]
  },
  {
   "cell_type": "code",
   "execution_count": 26,
   "metadata": {},
   "outputs": [],
   "source": [
    "with graph.as_default():\n",
    "    \n",
    "    predictions = session.run(model_output, feed_dict={\n",
    "        data_input: xs\n",
    "    })\n",
    "    prediction_on_samples = session.run(model_output, feed_dict={\n",
    "        data_input: xs_data\n",
    "    })"
   ]
  },
  {
   "cell_type": "markdown",
   "metadata": {},
   "source": [
    "Let's compare the prediction on the data set:"
   ]
  },
  {
   "cell_type": "code",
   "execution_count": 27,
   "metadata": {},
   "outputs": [
    {
     "data": {
      "image/png": "[encoded data removed]",
      "text/plain": [
       "<Figure size 432x288 with 1 Axes>"
      ]
     },
     "metadata": {
      "needs_background": "light"
     },
     "output_type": "display_data"
    }
   ],
   "source": [
    "plt.scatter(xs_data, ys_data, marker=\"x\", c=\"r\", label=\"samples\")\n",
    "plt.scatter(xs_data, prediction_on_samples, marker=\"x\", c=\"g\", label=\"predictions\")\n",
    "plt.legend();"
   ]
  },
  {
   "cell_type": "markdown",
   "metadata": {},
   "source": [
    "Now let's see what the model does on the whole domain $[-\\pi, \\pi]$"
   ]
  },
  {
   "cell_type": "code",
   "execution_count": 28,
   "metadata": {},
   "outputs": [
    {
     "data": {
      "image/png": "[encoded data removed]",
      "text/plain": [
       "<Figure size 432x288 with 1 Axes>"
      ]
     },
     "metadata": {
      "needs_background": "light"
     },
     "output_type": "display_data"
    }
   ],
   "source": [
    "plt.plot(xs, ys, label=\"ground truth\")\n",
    "plt.plot(xs, predictions, c=\"r\", label=\"predictions\")\n",
    "plt.scatter(xs_data, ys_data, marker=\"x\", c=\"g\", label=\"samples\")\n",
    "plt.legend();"
   ]
  },
  {
   "cell_type": "markdown",
   "metadata": {},
   "source": [
    "As seen above this initial model does not know anything about the data yet and consequently remains very useless.\n",
    "\n",
    "We remedy this by training it on our observed data."
   ]
  },
  {
   "cell_type": "code",
   "execution_count": 29,
   "metadata": {},
   "outputs": [],
   "source": [
    "# numbers of iterations that we pass through the data\n",
    "n_iteration_steps = 20000\n",
    "\n",
    "# we store the losses for each training iteration here\n",
    "losses = []"
   ]
  },
  {
   "cell_type": "code",
   "execution_count": 30,
   "metadata": {},
   "outputs": [
    {
     "name": "stdout",
     "output_type": "stream",
     "text": [
      "iteration: 0, loss: 0.9046539068222046\n",
      "iteration: 2000, loss: 0.6065057516098022\n",
      "iteration: 4000, loss: 0.6065055727958679\n",
      "iteration: 6000, loss: 0.6065056324005127\n",
      "iteration: 8000, loss: 0.6065056324005127\n",
      "iteration: 10000, loss: 0.6065056324005127\n",
      "iteration: 12000, loss: 0.6065056324005127\n",
      "iteration: 14000, loss: 0.6065056324005127\n",
      "iteration: 16000, loss: 0.6065056324005127\n",
      "iteration: 18000, loss: 0.6065056324005127\n"
     ]
    }
   ],
   "source": [
    "with session.graph.as_default():\n",
    "    \n",
    "    for i in range(n_iteration_steps):\n",
    "\n",
    "        # we can evaluate multiple nodes at the same time, by putting them in a container like\n",
    "        # a python list or tuple\n",
    "        current_loss, _ = session.run([loss, optimization_step], feed_dict={\n",
    "            data_input: xs_data,\n",
    "            target_input: ys_data\n",
    "        })\n",
    "        \n",
    "        losses.append(current_loss)\n",
    "\n",
    "        # we don't want to print the loss at each iteration\n",
    "        if i % 2000 == 0:\n",
    "            print(f\"iteration: {i}, loss: {current_loss}\")"
   ]
  },
  {
   "cell_type": "markdown",
   "metadata": {},
   "source": [
    "The optimization problem is [convex](https://en.wikipedia.org/wiki/Convex_optimization). \n",
    "\n",
    "So we can expect the loss to shrink smoothly."
   ]
  },
  {
   "cell_type": "code",
   "execution_count": 31,
   "metadata": {},
   "outputs": [
    {
     "data": {
      "text/plain": [
       "Text(0.5, 0, 'iterations')"
      ]
     },
     "execution_count": 31,
     "metadata": {},
     "output_type": "execute_result"
    },
    {
     "data": {
      "image/png": "[encoded data removed]",
      "text/plain": [
       "<Figure size 432x288 with 1 Axes>"
      ]
     },
     "metadata": {
      "needs_background": "light"
     },
     "output_type": "display_data"
    }
   ],
   "source": [
    "plt.loglog(losses);\n",
    "plt.ylabel(\"loss\")\n",
    "plt.xlabel(\"iterations\")"
   ]
  },
  {
   "cell_type": "markdown",
   "metadata": {},
   "source": [
    "Now lets look again on the model's predictions."
   ]
  },
  {
   "cell_type": "code",
   "execution_count": 32,
   "metadata": {},
   "outputs": [],
   "source": [
    "with session.graph.as_default():\n",
    "    predictions = session.run(model_output, feed_dict={data_input: xs})\n",
    "    prediction_on_samples = session.run(model_output, feed_dict={data_input: xs_data})"
   ]
  },
  {
   "cell_type": "code",
   "execution_count": 33,
   "metadata": {},
   "outputs": [
    {
     "data": {
      "text/plain": [
       "<matplotlib.legend.Legend at 0x1323533c8>"
      ]
     },
     "execution_count": 33,
     "metadata": {},
     "output_type": "execute_result"
    },
    {
     "data": {
      "image/png": "[encoded data removed]",
      "text/plain": [
       "<Figure size 432x288 with 1 Axes>"
      ]
     },
     "metadata": {
      "needs_background": "light"
     },
     "output_type": "display_data"
    }
   ],
   "source": [
    "plt.scatter(xs_data, ys_data, marker=\"x\", c=\"r\", label=\"samples\")\n",
    "plt.scatter(xs_data, prediction_on_samples, marker=\"x\", c=\"g\", label=\"predictions\")\n",
    "plt.legend()"
   ]
  },
  {
   "cell_type": "code",
   "execution_count": 34,
   "metadata": {},
   "outputs": [
    {
     "data": {
      "text/plain": [
       "<matplotlib.legend.Legend at 0x132820ba8>"
      ]
     },
     "execution_count": 34,
     "metadata": {},
     "output_type": "execute_result"
    },
    {
     "data": {
      "image/png": "[encoded data removed]",
      "text/plain": [
       "<Figure size 432x288 with 1 Axes>"
      ]
     },
     "metadata": {
      "needs_background": "light"
     },
     "output_type": "display_data"
    }
   ],
   "source": [
    "plt.plot(xs, ys, label=\"ground truth\")\n",
    "plt.plot(xs, predictions, c=\"r\", label=\"predictions\")\n",
    "plt.scatter(xs_data, ys_data, marker=\"x\", c=\"g\", label=\"samples\")\n",
    "plt.legend()"
   ]
  },
  {
   "cell_type": "markdown",
   "metadata": {},
   "source": [
    "We can see that the fit is much better now.\n",
    "\n",
    "But obviously the linear model is not flexible enought to really capture the ground truth very well."
   ]
  },
  {
   "cell_type": "markdown",
   "metadata": {},
   "source": [
    "# Part 3: Homework - kernel ridge regression"
   ]
  },
  {
   "cell_type": "markdown",
   "metadata": {},
   "source": [
    "### More complicated functions using feature space embeddings"
   ]
  },
  {
   "cell_type": "markdown",
   "metadata": {},
   "source": [
    "To expand the feature space the data can elevated by transforming it with a function $\\varphi : \\mathbb{R}^d \\to \\mathcal{X}$ to a potentially and usually higher-dimensional space $\\mathcal{X}$.\n",
    "\n",
    "Considering a kernel given by a scalar product $k(x_i, x_j) = \\langle\\varphi(x_i),\\varphi(x_j)\\rangle_\\mathcal{X}$ one can evaluate scalar products in some feature space without ever visiting it. Knowledge of $\\varphi$ is not required, only that it exists. A particular choice of kernel is the RBF (radial basis function) kernel given by\n",
    "\n",
    "$$\n",
    "k(x_i, x_j) = \\exp\\left( - \\frac{\\| x_i - x_j \\|^2_2}{2\\sigma^2} \\right).\n",
    "$$\n",
    "\n",
    "This method is known as the [kernel method](https://en.wikipedia.org/wiki/Kernel_method) or also \"kernel trick\"."
   ]
  },
  {
   "cell_type": "code",
   "execution_count": 35,
   "metadata": {},
   "outputs": [],
   "source": [
    "def rbf_expansion(inputs, low: float, high: float, count: int):\n",
    "    low, high, count = float(low), float(high), int(count)\n",
    "    assert high > low\n",
    "    spacing = (high - low) / count\n",
    "    gamma = 1. / spacing\n",
    "    \n",
    "    centers = tf.cast(tf.lin_space(low, high, count), inputs.dtype)\n",
    "    return tf.exp(-gamma * tf.square(inputs - centers))"
   ]
  },
  {
   "cell_type": "code",
   "execution_count": 36,
   "metadata": {},
   "outputs": [],
   "source": [
    "n_basis_functions = 1"
   ]
  },
  {
   "cell_type": "code",
   "execution_count": 37,
   "metadata": {},
   "outputs": [],
   "source": [
    "with graph.as_default():\n",
    "    data_input = tf.placeholder(dtype=tf.float32, shape=(None, 1), name=\"data_input\")\n",
    "    embedded_input = rbf_expansion(data_input, -3, 3, n_basis_functions)"
   ]
  },
  {
   "cell_type": "code",
   "execution_count": 38,
   "metadata": {},
   "outputs": [],
   "source": [
    "with session.graph.as_default():\n",
    "    embedding = session.run(embedded_input, feed_dict={data_input: xs})"
   ]
  },
  {
   "cell_type": "markdown",
   "metadata": {},
   "source": [
    "Now the data is in a space with $n_b$ = `n_basis_functions` dimensions and we get\n",
    "$$\n",
    "f_{W} \\colon \\mathbb{R}^{n_b} \\rightarrow \\mathbb{R}^{1}, x \\mapsto Wx + b\n",
    "$$\n",
    "with $W\\in\\mathbb{R}^{1\\times n_b}$ and $b\\in\\mathbb{R}$."
   ]
  },
  {
   "cell_type": "code",
   "execution_count": 39,
   "metadata": {},
   "outputs": [],
   "source": [
    "# implement the model\n",
    "with graph.as_default():\n",
    "    with tf.variable_scope(\"kernel_trick_1\"):\n",
    "        weight = tf.get_variable(name=\"weight\", shape=(1, n_basis_functions), dtype=tf.float32,\n",
    "                                 initializer=tf.initializers.random_normal())\n",
    "        bias = tf.get_variable(name=\"bias\", shape=(1, 1), dtype=tf.float32,\n",
    "                               initializer=tf.initializers.zeros())\n",
    "        model_output = tf.tensordot(embedded_input, tf.transpose(weight), axes=1) + bias"
   ]
  },
  {
   "cell_type": "code",
   "execution_count": 40,
   "metadata": {},
   "outputs": [],
   "source": [
    "# implement the mean squared error between model output and target input\n",
    "with graph.as_default():\n",
    "    target_input = tf.placeholder(dtype=tf.float32, shape=(None, 1), name=\"target_input\")\n",
    "    rbf_loss = tf.losses.mean_squared_error(target_input, model_output)"
   ]
  },
  {
   "cell_type": "markdown",
   "metadata": {},
   "source": [
    "### Overfitting and underfitting"
   ]
  },
  {
   "cell_type": "markdown",
   "metadata": {},
   "source": [
    "### Task 1:\n",
    "After filling the gaps in the previous section, run on `1`, `2`, `80` RBFs and observe the behavior of the fit."
   ]
  },
  {
   "cell_type": "markdown",
   "metadata": {},
   "source": [
    "### Task 2:\n",
    "\n",
    "The variance of the solution can be decreased by biasing the minimization problem into a direction where the degrees of freedom are kept small, effectively improving the condition of the problem. One particular way of achieving this is called $\\ell_2$ or Ridge regularizaion, where the weights are penalized with their $\\ell_2$ norm. In particular:\n",
    "\n",
    "$$a\n",
    "W^* = \\arg\\min_{W} \\tfrac{1}{N} \\sum_{n=1}^{N}(f_{W}(x_i) - y_i)^{2} + \\lambda \\| W \\|_2^2\n",
    "$$\n",
    "\n",
    "with $\\| x \\|_2 = (x_1^2 + \\ldots + x_d^2)^{\\tfrac{1}{2}}$ and for an appropriate choice of $\\lambda\\geq 0$.\n",
    "\n",
    "Implement $\\ell_2$ regularization for the RBF embedded fitting problem. A useful method to achieve this is [tf.math.reduce_sum](https://www.tensorflow.org/api_docs/python/tf/math/reduce_sum)."
   ]
  },
  {
   "cell_type": "markdown",
   "metadata": {},
   "source": [
    "### Task 3:\n",
    "\n",
    "You are given data from an unknown ground truth in the file `training_data.npz`.\n",
    "\n",
    "Your task is to build a kernel ridge regression model that approximates the ground truth as close as possible, without overfitting on your data set.\n",
    "\n",
    "__Hint:__ You can use `validation_data.npz` to validate whether your model might have overfitted on the training data. __But beware__: if you include the validation data in your training (or validate too much) then you will also overfit to it as well and you will not be able to extrapolate!"
   ]
  },
  {
   "cell_type": "markdown",
   "metadata": {},
   "source": [
    "### Deliverables\n",
    "\n",
    "1. Evaluate your model on the inputs given in the file `x_test.npy`.\n",
    "2. Upload your model's prediction as a file `model_outputs.npy`.\n",
    "3. Upload your notebook used for obtaining your results.\n",
    "\n",
    "__Disclaimer__: we will take samples of your notebooks to see whether the model you have implemented matches the prediction data you submit. If we discover a mismatch that cannot be explained by floating point error or similar we will consider this homework as failed."
   ]
  },
  {
   "cell_type": "markdown",
   "metadata": {},
   "source": [
    "### Load data"
   ]
  },
  {
   "cell_type": "code",
   "execution_count": null,
   "metadata": {},
   "outputs": [],
   "source": [
    "training_data_x = np.load(\"task/x_train.npy\")\n",
    "training_data_y = np.load(\"task/y_train.npy\")\n",
    "\n",
    "validation_data_x = np.load(\"task/x_val.npy\")\n",
    "validation_data_y = np.load(\"task/y_val.npy\")\n",
    "test_data_x = np.load(\"task/x_test.npy\")"
   ]
  },
  {
   "cell_type": "markdown",
   "metadata": {},
   "source": [
    "### Save your prediction"
   ]
  },
  {
   "cell_type": "code",
   "execution_count": null,
   "metadata": {},
   "outputs": [],
   "source": [
    "model_outputs = session.run(model_output, feed_dict={data_input: test_data_x})\n",
    "np.save(\"model_outputs\", model_outputs)"
   ]
  }
 ],
 "metadata": {
  "kernelspec": {
   "display_name": "Python 3",
   "language": "python",
   "name": "python3"
  },
  "language_info": {
   "codemirror_mode": {
    "name": "ipython",
    "version": 3
   },
   "file_extension": ".py",
   "mimetype": "text/x-python",
   "name": "python",
   "nbconvert_exporter": "python",
   "pygments_lexer": "ipython3",
   "version": "3.7.2"
  }
 },
 "nbformat": 4,
 "nbformat_minor": 2
}
